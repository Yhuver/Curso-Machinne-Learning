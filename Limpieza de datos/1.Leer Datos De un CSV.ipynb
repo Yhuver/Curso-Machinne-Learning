{
 "cells": [
  {
   "cell_type": "markdown",
   "metadata": {},
   "source": [
    "# Carga de datos a través de la función read_csv"
   ]
  },
  {
   "cell_type": "code",
   "execution_count": 11,
   "metadata": {},
   "outputs": [],
   "source": [
    "import pandas as pd"
   ]
  },
  {
   "cell_type": "code",
   "execution_count": 14,
   "metadata": {},
   "outputs": [],
   "source": [
    "data= pd.read_csv(\"../../datasets/titanic/titanic3.csv\")"
   ]
  },
  {
   "cell_type": "code",
   "execution_count": 28,
   "metadata": {},
   "outputs": [],
   "source": [
    "#el read_csv tiene 30 argumentos\n",
    "data= pd.read_csv(filepath_or_buffer=\"../../datasets/titanic/titanic3.csv\", sep=\",\", dtype=None, header=None, names=None, skiprows=None, index_col=None, skip_blank_lines=False, na_filter=False)"
   ]
  },
  {
   "cell_type": "raw",
   "metadata": {},
   "source": [
    "#-------------none: toma por defecto la consiguración estandar del metodo\n",
    "# filepath: Parametro para enlazar el archivo que se quiere cargar\n",
    "# sep: Separador(Por defecto es una ','\n",
    "# dtype: Sirve para expecificar el tipo de dato de las columnas del dataset ({\"a\":np.float64, \"b\":np.int31}) Para esto se necesita cargar numpy(np)\n",
    "# header: Para tomar cual de las filas del archivo es la cabecera\n",
    "# names: Para especificar el nombre de las columnas(cabeceras) {\"ingresos\", \"edad\"}\n",
    "# skiprows: para leer el archivo desde un numero de fila especifico en el caso de 12 leería del 12 para arriba\n",
    "# index_col: Para especificar que numero de columna debe ser el indice\n",
    "# skip_blank_lines: True o False coloca NaN cuando no existe un dato en una columna y en el caso de True coloca los valote en blanco\n",
    "# na_filter: si se coloca en True elimina todas las filas que tenga valores vacios o NaN\n",
    "\n",
    "read.csv(filepath=\"/Users/JuanGabriel/Developer/AnacondaProjects/python-ml-course/datasets/titanic/titanic3.csv\", sep = \",\", dtype={\"ingresos\":np.float64, \"edad\":np.int32}, header=0,names={\"ingresos\", \"edad\"}, skiprows=12, index_col=None, skip_blank_lines=False, na_filter=False )"
   ]
  },
  {
   "cell_type": "code",
   "execution_count": null,
   "metadata": {},
   "outputs": [],
   "source": []
  }
 ],
 "metadata": {
  "kernelspec": {
   "display_name": "Python 3",
   "language": "python",
   "name": "python3"
  },
  "language_info": {
   "codemirror_mode": {
    "name": "ipython",
    "version": 3
   },
   "file_extension": ".py",
   "mimetype": "text/x-python",
   "name": "python",
   "nbconvert_exporter": "python",
   "pygments_lexer": "ipython3",
   "version": "3.7.6"
  }
 },
 "nbformat": 4,
 "nbformat_minor": 4
}
